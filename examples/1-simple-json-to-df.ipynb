{
 "cells": [
  {
   "cell_type": "markdown",
   "source": [
    "Let us consider a problem:\n",
    "We have an Observation that we would like to translate to DataFrame.\n",
    "\n",
    "First, we initialize the needed classes."
   ],
   "metadata": {
    "collapsed": false,
    "pycharm": {
     "name": "#%% md\n"
    }
   }
  },
  {
   "cell_type": "code",
   "execution_count": 1,
   "outputs": [],
   "source": [
    "from fhir_pyrate import Pirate\n",
    "\n",
    "# # Init authentication for your FHIR server\n",
    "# # Either authenticate with a token\n",
    "# import os\n",
    "# from dotenv import load_dotenv\n",
    "#\n",
    "# load_dotenv()\n",
    "# # I have stored these variables in a .env file\n",
    "# auth = Ahoy(\n",
    "#     auth_type=\"token\",\n",
    "#     auth_method=\"env\",\n",
    "#     auth_url=os.environ[\"BASIC_AUTH\"],\n",
    "#     refresh_url=os.environ[\"REFRESH_AUTH\"],\n",
    "#     # token = ... # The token can also be passed as a variable\n",
    "# )\n",
    "# # Or with BasicAuth\n",
    "# auth = Ahoy(\n",
    "#     auth_type=\"BasicAuth\",\n",
    "#     auth_method=\"env\", # The variables FHIR_USER and FHIR_PASSWORD have your authentication data\n",
    "#     # auth_method=\"password\", # You can also specify username and password\n",
    "#     # username=\"abc\",\n",
    "# )\n",
    "# Init search class\n",
    "search = Pirate(\n",
    "    auth=None,\n",
    "    base_url=\"http://hapi.fhir.org/baseDstu2\",\n",
    "    print_request_url=True,  # Set it to true to get the URL calls\n",
    "    num_processes=1,\n",
    ")"
   ],
   "metadata": {
    "collapsed": false,
    "pycharm": {
     "name": "#%%\n"
    }
   }
  },
  {
   "cell_type": "markdown",
   "source": [
    "We can now start with our actual query. Let's assume, for this very simple case, that we know the\n",
    " Observation ID. Then, we just need to call the following function with the Observation resource\n",
    " and the request parameters to obtain our result.\n",
    "\n",
    "`query_to_dataframe` is a wrapper function that downloads a list of bundles using any function specified in `bundles_function`, and then uses a process function to build a DataFrame with the requested information. The default processing function returns the entire structure of the resource.\n"
   ],
   "metadata": {
    "collapsed": false,
    "pycharm": {
     "name": "#%% md\n"
    }
   }
  },
  {
   "cell_type": "code",
   "execution_count": 2,
   "outputs": [
    {
     "name": "stdout",
     "output_type": "stream",
     "text": [
      "http://hapi.fhir.org/baseDstu2/Observation?_count=1&_id=86092\n"
     ]
    },
    {
     "name": "stderr",
     "output_type": "stream",
     "text": [
      "Query: 1it [00:00, 5377.31it/s]\n"
     ]
    },
    {
     "data": {
      "text/plain": "  resourceType     id meta_versionId               meta_lastUpdated status  \\\n0  Observation  86092              1  2018-11-19T12:59:31.238+00:00  final   \n\n                   category_coding_0_system category_coding_0_code  \\\n0  http://hl7.org/fhir/observation-category            vital-signs   \n\n  code_coding_0_system code_coding_0_code code_coding_0_display    code_text  \\\n0     http://loinc.org            29463-7           Body Weight  Body Weight   \n\n  subject_reference encounter_reference          effectiveDateTime  \\\n0     Patient/86079     Encounter/86090  2011-03-10T20:47:29-05:00   \n\n                      issued  valueQuantity_value valueQuantity_unit  \\\n0  2011-03-10T20:47:29-05:00             6.079781                 kg   \n\n         valueQuantity_system valueQuantity_code  \n0  http://unitsofmeasure.org/                 kg  ",
      "text/html": "<div>\n<style scoped>\n    .dataframe tbody tr th:only-of-type {\n        vertical-align: middle;\n    }\n\n    .dataframe tbody tr th {\n        vertical-align: top;\n    }\n\n    .dataframe thead th {\n        text-align: right;\n    }\n</style>\n<table border=\"1\" class=\"dataframe\">\n  <thead>\n    <tr style=\"text-align: right;\">\n      <th></th>\n      <th>resourceType</th>\n      <th>id</th>\n      <th>meta_versionId</th>\n      <th>meta_lastUpdated</th>\n      <th>status</th>\n      <th>category_coding_0_system</th>\n      <th>category_coding_0_code</th>\n      <th>code_coding_0_system</th>\n      <th>code_coding_0_code</th>\n      <th>code_coding_0_display</th>\n      <th>code_text</th>\n      <th>subject_reference</th>\n      <th>encounter_reference</th>\n      <th>effectiveDateTime</th>\n      <th>issued</th>\n      <th>valueQuantity_value</th>\n      <th>valueQuantity_unit</th>\n      <th>valueQuantity_system</th>\n      <th>valueQuantity_code</th>\n    </tr>\n  </thead>\n  <tbody>\n    <tr>\n      <th>0</th>\n      <td>Observation</td>\n      <td>86092</td>\n      <td>1</td>\n      <td>2018-11-19T12:59:31.238+00:00</td>\n      <td>final</td>\n      <td>http://hl7.org/fhir/observation-category</td>\n      <td>vital-signs</td>\n      <td>http://loinc.org</td>\n      <td>29463-7</td>\n      <td>Body Weight</td>\n      <td>Body Weight</td>\n      <td>Patient/86079</td>\n      <td>Encounter/86090</td>\n      <td>2011-03-10T20:47:29-05:00</td>\n      <td>2011-03-10T20:47:29-05:00</td>\n      <td>6.079781</td>\n      <td>kg</td>\n      <td>http://unitsofmeasure.org/</td>\n      <td>kg</td>\n    </tr>\n  </tbody>\n</table>\n</div>"
     },
     "execution_count": 2,
     "metadata": {},
     "output_type": "execute_result"
    }
   ],
   "source": [
    "observation_all = search.query_to_dataframe(  # Wrapper function\n",
    "    bundles_function=search.steal_bundles,  # Non-parallel function that iterates through the bundles and returns them\n",
    "    resource_type=\"Observation\",\n",
    "    request_params={\n",
    "        \"_count\": 1,\n",
    "        \"_id\": \"86092\",\n",
    "    },\n",
    ")\n",
    "observation_all"
   ],
   "metadata": {
    "collapsed": false,
    "pycharm": {
     "name": "#%%\n"
    }
   }
  },
  {
   "cell_type": "markdown",
   "source": [
    "And there it is, the JSON has been now stored into a DataFrame. As you see, the amount of\n",
    "information is a bit much, there are things that we do not need at all.\n",
    "Let us assume that we are only interested in the FHIR patient ID, the date and the values. Since\n",
    "these values are quite easy to get, we can use the `fhir_paths` parameter.\n",
    "Remember to install [fhirpath-py](https://github.com/beda-software/fhirpath-py) to use the\n",
    "`fhir_paths` parameter."
   ],
   "metadata": {
    "collapsed": false,
    "pycharm": {
     "name": "#%% md\n"
    }
   }
  },
  {
   "cell_type": "code",
   "execution_count": 3,
   "outputs": [
    {
     "name": "stdout",
     "output_type": "stream",
     "text": [
      "http://hapi.fhir.org/baseDstu2/Observation?_count=1&_id=86092\n"
     ]
    },
    {
     "name": "stderr",
     "output_type": "stream",
     "text": [
      "Query: 1it [00:00, 21845.33it/s]\n"
     ]
    },
    {
     "data": {
      "text/plain": "      id          effectiveDateTime  valueQuantity.value valueQuantity.unit  \\\n0  86092  2011-03-10T20:47:29-05:00             6.079781                 kg   \n\n  subject.reference  \n0     Patient/86079  ",
      "text/html": "<div>\n<style scoped>\n    .dataframe tbody tr th:only-of-type {\n        vertical-align: middle;\n    }\n\n    .dataframe tbody tr th {\n        vertical-align: top;\n    }\n\n    .dataframe thead th {\n        text-align: right;\n    }\n</style>\n<table border=\"1\" class=\"dataframe\">\n  <thead>\n    <tr style=\"text-align: right;\">\n      <th></th>\n      <th>id</th>\n      <th>effectiveDateTime</th>\n      <th>valueQuantity.value</th>\n      <th>valueQuantity.unit</th>\n      <th>subject.reference</th>\n    </tr>\n  </thead>\n  <tbody>\n    <tr>\n      <th>0</th>\n      <td>86092</td>\n      <td>2011-03-10T20:47:29-05:00</td>\n      <td>6.079781</td>\n      <td>kg</td>\n      <td>Patient/86079</td>\n    </tr>\n  </tbody>\n</table>\n</div>"
     },
     "execution_count": 3,
     "metadata": {},
     "output_type": "execute_result"
    }
   ],
   "source": [
    "observation_tnm = search.query_to_dataframe(\n",
    "    bundles_function=search.steal_bundles,\n",
    "    resource_type=\"Observation\",\n",
    "    request_params={\n",
    "        \"_count\": 1,\n",
    "        \"_id\": \"86092\",\n",
    "    },\n",
    "    fhir_paths=[\n",
    "        \"id\",\n",
    "        \"effectiveDateTime\",\n",
    "        \"valueQuantity.value\",\n",
    "        \"valueQuantity.unit\",\n",
    "        \"subject.reference\",\n",
    "    ],\n",
    ")\n",
    "observation_tnm"
   ],
   "metadata": {
    "collapsed": false,
    "pycharm": {
     "name": "#%%\n"
    }
   }
  },
  {
   "cell_type": "markdown",
   "source": [
    "And there it is, our patient with the values we wanted!"
   ],
   "metadata": {
    "collapsed": false
   }
  },
  {
   "cell_type": "markdown",
   "source": [],
   "metadata": {
    "collapsed": false,
    "pycharm": {
     "name": "#%% md\n"
    }
   }
  }
 ],
 "metadata": {
  "kernelspec": {
   "display_name": "Python 3",
   "language": "python",
   "name": "python3"
  },
  "language_info": {
   "codemirror_mode": {
    "name": "ipython",
    "version": 2
   },
   "file_extension": ".py",
   "mimetype": "text/x-python",
   "name": "python",
   "nbconvert_exporter": "python",
   "pygments_lexer": "ipython2",
   "version": "2.7.6"
  }
 },
 "nbformat": 4,
 "nbformat_minor": 0
}
