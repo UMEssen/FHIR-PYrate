{
 "cells": [
  {
   "cell_type": "markdown",
   "source": [
    "Another use case is that we have set of DiagnosticReports, and we need to find out if they contain\n",
    "some particular information we are interested in.\n",
    "\n",
    "The process:\n",
    "1. Set of DiagnosticReports, for example the ones from 2021 or later.\n",
    "2. Investigate the reports for the RegEx \"Metabolic\".\n",
    "3. Obtain a list of interesting documents.\n",
    "\n",
    "Remember to install [fhirpath-py](https://github.com/beda-software/fhirpath-py) to use the\n",
    "`fhir_paths` parameter."
   ],
   "metadata": {
    "collapsed": false
   }
  },
  {
   "cell_type": "code",
   "execution_count": 1,
   "outputs": [
    {
     "name": "stdout",
     "output_type": "stream",
     "text": [
      "http://hapi.fhir.org/baseDstu2/DiagnosticReport?_count=100&_lastUpdated=ge2021\n"
     ]
    },
    {
     "name": "stderr",
     "output_type": "stream",
     "text": [
      "Query: 1it [00:00, 2475.98it/s]\n",
      "WARNING:root:You are using the term div in of your FHIR path text.div. Please keep in mind that this token can be used a function according to the FHIRPath specification (https://hl7.org/fhirpath/), which means that it will not be interpreted as path expression. E.g., if you are using text.div, it will not work, because 'div' is already a string that can be used for integer division. If you really want to do this, please use processing functions instead. If you are using the FHIRPath expressions correctly as they are intended, you can silence the warning when initializing the class.\n"
     ]
    },
    {
     "ename": "Exception",
     "evalue": "Infix invoke should have arity 2",
     "output_type": "error",
     "traceback": [
      "\u001B[0;31m---------------------------------------------------------------------------\u001B[0m",
      "\u001B[0;31mException\u001B[0m                                 Traceback (most recent call last)",
      "Input \u001B[0;32mIn [1]\u001B[0m, in \u001B[0;36m<cell line: 11>\u001B[0;34m()\u001B[0m\n\u001B[1;32m      3\u001B[0m \u001B[38;5;28;01mfrom\u001B[39;00m \u001B[38;5;21;01mfhir_pyrate\u001B[39;00m\u001B[38;5;21;01m.\u001B[39;00m\u001B[38;5;21;01mutil\u001B[39;00m\u001B[38;5;21;01m.\u001B[39;00m\u001B[38;5;21;01mfhirobj\u001B[39;00m \u001B[38;5;28;01mimport\u001B[39;00m FHIRObj\n\u001B[1;32m      5\u001B[0m search \u001B[38;5;241m=\u001B[39m Pirate(\n\u001B[1;32m      6\u001B[0m     auth\u001B[38;5;241m=\u001B[39m\u001B[38;5;28;01mNone\u001B[39;00m,\n\u001B[1;32m      7\u001B[0m     base_url\u001B[38;5;241m=\u001B[39m\u001B[38;5;124m\"\u001B[39m\u001B[38;5;124mhttp://hapi.fhir.org/baseDstu2\u001B[39m\u001B[38;5;124m\"\u001B[39m,\n\u001B[1;32m      8\u001B[0m     print_request_url\u001B[38;5;241m=\u001B[39m\u001B[38;5;28;01mTrue\u001B[39;00m,  \u001B[38;5;66;03m# Set it to true to get the URL calls\u001B[39;00m\n\u001B[1;32m      9\u001B[0m     num_processes\u001B[38;5;241m=\u001B[39m\u001B[38;5;241m1\u001B[39m,\n\u001B[1;32m     10\u001B[0m )\n\u001B[0;32m---> 11\u001B[0m diagnostic_df \u001B[38;5;241m=\u001B[39m \u001B[43msearch\u001B[49m\u001B[38;5;241;43m.\u001B[39;49m\u001B[43mquery_to_dataframe\u001B[49m\u001B[43m(\u001B[49m\n\u001B[1;32m     12\u001B[0m \u001B[43m    \u001B[49m\u001B[43mbundles_function\u001B[49m\u001B[38;5;241;43m=\u001B[39;49m\u001B[43msearch\u001B[49m\u001B[38;5;241;43m.\u001B[39;49m\u001B[43msteal_bundles\u001B[49m\u001B[43m,\u001B[49m\n\u001B[1;32m     13\u001B[0m \u001B[43m    \u001B[49m\u001B[43mresource_type\u001B[49m\u001B[38;5;241;43m=\u001B[39;49m\u001B[38;5;124;43m\"\u001B[39;49m\u001B[38;5;124;43mDiagnosticReport\u001B[39;49m\u001B[38;5;124;43m\"\u001B[39;49m\u001B[43m,\u001B[49m\n\u001B[1;32m     14\u001B[0m \u001B[43m    \u001B[49m\u001B[43mrequest_params\u001B[49m\u001B[38;5;241;43m=\u001B[39;49m\u001B[43m{\u001B[49m\n\u001B[1;32m     15\u001B[0m \u001B[43m        \u001B[49m\u001B[38;5;124;43m\"\u001B[39;49m\u001B[38;5;124;43m_count\u001B[39;49m\u001B[38;5;124;43m\"\u001B[39;49m\u001B[43m:\u001B[49m\u001B[43m \u001B[49m\u001B[38;5;241;43m100\u001B[39;49m\u001B[43m,\u001B[49m\n\u001B[1;32m     16\u001B[0m \u001B[43m        \u001B[49m\u001B[38;5;124;43m\"\u001B[39;49m\u001B[38;5;124;43m_lastUpdated\u001B[39;49m\u001B[38;5;124;43m\"\u001B[39;49m\u001B[43m:\u001B[49m\u001B[43m \u001B[49m\u001B[38;5;124;43m\"\u001B[39;49m\u001B[38;5;124;43mge2021\u001B[39;49m\u001B[38;5;124;43m\"\u001B[39;49m\u001B[43m,\u001B[49m\n\u001B[1;32m     17\u001B[0m \u001B[43m    \u001B[49m\u001B[43m}\u001B[49m\u001B[43m,\u001B[49m\n\u001B[1;32m     18\u001B[0m \u001B[43m    \u001B[49m\u001B[43mfhir_paths\u001B[49m\u001B[38;5;241;43m=\u001B[39;49m\u001B[43m[\u001B[49m\u001B[38;5;124;43m\"\u001B[39;49m\u001B[38;5;124;43mtext.status\u001B[39;49m\u001B[38;5;124;43m\"\u001B[39;49m\u001B[43m,\u001B[49m\u001B[43m \u001B[49m\u001B[38;5;124;43m\"\u001B[39;49m\u001B[38;5;124;43mtext.div\u001B[39;49m\u001B[38;5;124;43m\"\u001B[39;49m\u001B[43m]\u001B[49m\u001B[43m,\u001B[49m\n\u001B[1;32m     19\u001B[0m \u001B[43m)\u001B[49m\n\u001B[1;32m     20\u001B[0m diagnostic_df\n",
      "File \u001B[0;32m~/Documents/FHIR-PYrate/fhir_pyrate/pirate.py:779\u001B[0m, in \u001B[0;36mPirate.query_to_dataframe\u001B[0;34m(self, bundles_function, process_function, fhir_paths, disable_multiprocessing_process_function, **kwargs)\u001B[0m\n\u001B[1;32m    777\u001B[0m     \u001B[38;5;28;01mexcept\u001B[39;00m \u001B[38;5;167;01mImportError\u001B[39;00m \u001B[38;5;28;01mas\u001B[39;00m e:\n\u001B[1;32m    778\u001B[0m         \u001B[38;5;28;01mraise\u001B[39;00m \u001B[38;5;167;01mImportError\u001B[39;00m(\u001B[38;5;28mself\u001B[39m\u001B[38;5;241m.\u001B[39mFHIRPATH_IMPORT_ERROR) \u001B[38;5;28;01mfrom\u001B[39;00m \u001B[38;5;21;01me\u001B[39;00m\n\u001B[0;32m--> 779\u001B[0m \u001B[38;5;28;01mreturn\u001B[39;00m \u001B[38;5;28;43mself\u001B[39;49m\u001B[38;5;241;43m.\u001B[39;49m\u001B[43mbundles_to_dataframe\u001B[49m\u001B[43m(\u001B[49m\n\u001B[1;32m    780\u001B[0m \u001B[43m    \u001B[49m\u001B[43mbundles\u001B[49m\u001B[38;5;241;43m=\u001B[39;49m\u001B[43mbundles_function\u001B[49m\u001B[43m(\u001B[49m\u001B[38;5;241;43m*\u001B[39;49m\u001B[38;5;241;43m*\u001B[39;49m\u001B[43mkwargs\u001B[49m\u001B[43m)\u001B[49m\u001B[43m,\u001B[49m\n\u001B[1;32m    781\u001B[0m \u001B[43m    \u001B[49m\u001B[43mprocess_function\u001B[49m\u001B[38;5;241;43m=\u001B[39;49m\u001B[43mprocess_function\u001B[49m\u001B[43m,\u001B[49m\n\u001B[1;32m    782\u001B[0m \u001B[43m    \u001B[49m\u001B[43mfhir_paths\u001B[49m\u001B[38;5;241;43m=\u001B[39;49m\u001B[43mfhir_paths\u001B[49m\u001B[43m,\u001B[49m\n\u001B[1;32m    783\u001B[0m \u001B[43m    \u001B[49m\u001B[43msingle_process\u001B[49m\u001B[38;5;241;43m=\u001B[39;49m\u001B[43mdisable_multiprocessing_process_function\u001B[49m\u001B[43m,\u001B[49m\n\u001B[1;32m    784\u001B[0m \u001B[43m\u001B[49m\u001B[43m)\u001B[49m\n",
      "File \u001B[0;32m~/Documents/FHIR-PYrate/fhir_pyrate/pirate.py:634\u001B[0m, in \u001B[0;36mPirate.bundles_to_dataframe\u001B[0;34m(self, bundles, process_function, fhir_paths, single_process)\u001B[0m\n\u001B[1;32m    632\u001B[0m     pool\u001B[38;5;241m.\u001B[39mjoin()\n\u001B[1;32m    633\u001B[0m \u001B[38;5;28;01melse\u001B[39;00m:\n\u001B[0;32m--> 634\u001B[0m     results \u001B[38;5;241m=\u001B[39m [item \u001B[38;5;28;01mfor\u001B[39;00m bundle \u001B[38;5;129;01min\u001B[39;00m bundles \u001B[38;5;28;01mfor\u001B[39;00m item \u001B[38;5;129;01min\u001B[39;00m process_function(bundle)]\n\u001B[1;32m    635\u001B[0m \u001B[38;5;28;01mreturn\u001B[39;00m pd\u001B[38;5;241m.\u001B[39mDataFrame(results)\n",
      "File \u001B[0;32m~/Documents/FHIR-PYrate/fhir_pyrate/pirate.py:634\u001B[0m, in \u001B[0;36m<listcomp>\u001B[0;34m(.0)\u001B[0m\n\u001B[1;32m    632\u001B[0m     pool\u001B[38;5;241m.\u001B[39mjoin()\n\u001B[1;32m    633\u001B[0m \u001B[38;5;28;01melse\u001B[39;00m:\n\u001B[0;32m--> 634\u001B[0m     results \u001B[38;5;241m=\u001B[39m [item \u001B[38;5;28;01mfor\u001B[39;00m bundle \u001B[38;5;129;01min\u001B[39;00m bundles \u001B[38;5;28;01mfor\u001B[39;00m item \u001B[38;5;129;01min\u001B[39;00m \u001B[43mprocess_function\u001B[49m\u001B[43m(\u001B[49m\u001B[43mbundle\u001B[49m\u001B[43m)\u001B[49m]\n\u001B[1;32m    635\u001B[0m \u001B[38;5;28;01mreturn\u001B[39;00m pd\u001B[38;5;241m.\u001B[39mDataFrame(results)\n",
      "File \u001B[0;32m~/Documents/FHIR-PYrate/fhir_pyrate/util/bundle_processing_templates.py:82\u001B[0m, in \u001B[0;36mparse_fhir_path\u001B[0;34m(bundle, fhir_paths)\u001B[0m\n\u001B[1;32m     80\u001B[0m \u001B[38;5;28;01mfor\u001B[39;00m i, base_dict \u001B[38;5;129;01min\u001B[39;00m \u001B[38;5;28menumerate\u001B[39m(records):\n\u001B[1;32m     81\u001B[0m     resource \u001B[38;5;241m=\u001B[39m bundle\u001B[38;5;241m.\u001B[39mentry[i]\u001B[38;5;241m.\u001B[39mresource\n\u001B[0;32m---> 82\u001B[0m     base_dict[path] \u001B[38;5;241m=\u001B[39m \u001B[43mcompiled_path\u001B[49m\u001B[43m(\u001B[49m\u001B[43mresource\u001B[49m\u001B[38;5;241;43m=\u001B[39;49m\u001B[43mresource\u001B[49m\u001B[38;5;241;43m.\u001B[39;49m\u001B[43mto_dict\u001B[49m\u001B[43m(\u001B[49m\u001B[43m)\u001B[49m\u001B[43m)\u001B[49m\n\u001B[1;32m     83\u001B[0m     \u001B[38;5;28;01mif\u001B[39;00m \u001B[38;5;28mlen\u001B[39m(base_dict[path]) \u001B[38;5;241m==\u001B[39m \u001B[38;5;241m0\u001B[39m:\n\u001B[1;32m     84\u001B[0m         base_dict[path] \u001B[38;5;241m=\u001B[39m \u001B[38;5;28;01mNone\u001B[39;00m\n",
      "File \u001B[0;32m~/Library/Caches/pypoetry/virtualenvs/fhir-pyrate-VJNlgDv1-py3.8/lib/python3.8/site-packages/fhirpathpy/__init__.py:87\u001B[0m, in \u001B[0;36mcompile.<locals>.func\u001B[0;34m(resource, context)\u001B[0m\n\u001B[1;32m     86\u001B[0m \u001B[38;5;28;01mdef\u001B[39;00m \u001B[38;5;21mfunc\u001B[39m(resource, context\u001B[38;5;241m=\u001B[39m{}):\n\u001B[0;32m---> 87\u001B[0m     \u001B[38;5;28;01mreturn\u001B[39;00m \u001B[43mapply_parsed_path\u001B[49m\u001B[43m(\u001B[49m\u001B[43mresource\u001B[49m\u001B[43m,\u001B[49m\u001B[43m \u001B[49m\u001B[43mnode\u001B[49m\u001B[43m,\u001B[49m\u001B[43m \u001B[49m\u001B[43mcontext\u001B[49m\u001B[43m,\u001B[49m\u001B[43m \u001B[49m\u001B[43mmodel\u001B[49m\u001B[43m)\u001B[49m\n",
      "File \u001B[0;32m~/Library/Caches/pypoetry/virtualenvs/fhir-pyrate-VJNlgDv1-py3.8/lib/python3.8/site-packages/fhirpathpy/__init__.py:31\u001B[0m, in \u001B[0;36mapply_parsed_path\u001B[0;34m(resource, parsedPath, context, model)\u001B[0m\n\u001B[1;32m     28\u001B[0m \u001B[38;5;28mvars\u001B[39m\u001B[38;5;241m.\u001B[39mupdate(context)\n\u001B[1;32m     30\u001B[0m ctx \u001B[38;5;241m=\u001B[39m {\u001B[38;5;124m\"\u001B[39m\u001B[38;5;124mdataRoot\u001B[39m\u001B[38;5;124m\"\u001B[39m: dataRoot, \u001B[38;5;124m\"\u001B[39m\u001B[38;5;124mvars\u001B[39m\u001B[38;5;124m\"\u001B[39m: \u001B[38;5;28mvars\u001B[39m, \u001B[38;5;124m\"\u001B[39m\u001B[38;5;124mmodel\u001B[39m\u001B[38;5;124m\"\u001B[39m: model}\n\u001B[0;32m---> 31\u001B[0m node \u001B[38;5;241m=\u001B[39m \u001B[43mdo_eval\u001B[49m\u001B[43m(\u001B[49m\u001B[43mctx\u001B[49m\u001B[43m,\u001B[49m\u001B[43m \u001B[49m\u001B[43mdataRoot\u001B[49m\u001B[43m,\u001B[49m\u001B[43m \u001B[49m\u001B[43mparsedPath\u001B[49m\u001B[43m[\u001B[49m\u001B[38;5;124;43m\"\u001B[39;49m\u001B[38;5;124;43mchildren\u001B[39;49m\u001B[38;5;124;43m\"\u001B[39;49m\u001B[43m]\u001B[49m\u001B[43m[\u001B[49m\u001B[38;5;241;43m0\u001B[39;49m\u001B[43m]\u001B[49m\u001B[43m)\u001B[49m\n\u001B[1;32m     33\u001B[0m \u001B[38;5;66;03m# Resolve any internal \"ResourceNode\" instances.  Continue to let FP_Type\u001B[39;00m\n\u001B[1;32m     34\u001B[0m \u001B[38;5;66;03m# subclasses through.\u001B[39;00m\n\u001B[1;32m     36\u001B[0m \u001B[38;5;28;01mdef\u001B[39;00m \u001B[38;5;21mvisit\u001B[39m(node):\n",
      "File \u001B[0;32m~/Library/Caches/pypoetry/virtualenvs/fhir-pyrate-VJNlgDv1-py3.8/lib/python3.8/site-packages/fhirpathpy/engine/__init__.py:41\u001B[0m, in \u001B[0;36mdo_eval\u001B[0;34m(ctx, parentData, node)\u001B[0m\n\u001B[1;32m     39\u001B[0m \u001B[38;5;28;01mif\u001B[39;00m node_type \u001B[38;5;129;01min\u001B[39;00m evaluators:\n\u001B[1;32m     40\u001B[0m     evaluator \u001B[38;5;241m=\u001B[39m evaluators\u001B[38;5;241m.\u001B[39mget(node_type)\n\u001B[0;32m---> 41\u001B[0m     \u001B[38;5;28;01mreturn\u001B[39;00m \u001B[43mevaluator\u001B[49m\u001B[43m(\u001B[49m\u001B[43mctx\u001B[49m\u001B[43m,\u001B[49m\u001B[43m \u001B[49m\u001B[43mparentData\u001B[49m\u001B[43m,\u001B[49m\u001B[43m \u001B[49m\u001B[43mnode\u001B[49m\u001B[43m)\u001B[49m\n\u001B[1;32m     43\u001B[0m \u001B[38;5;28;01mraise\u001B[39;00m \u001B[38;5;167;01mException\u001B[39;00m(\u001B[38;5;124m\"\u001B[39m\u001B[38;5;124mNo \u001B[39m\u001B[38;5;124m\"\u001B[39m \u001B[38;5;241m+\u001B[39m node_type \u001B[38;5;241m+\u001B[39m \u001B[38;5;124m\"\u001B[39m\u001B[38;5;124m evaluator \u001B[39m\u001B[38;5;124m\"\u001B[39m)\n",
      "File \u001B[0;32m~/Library/Caches/pypoetry/virtualenvs/fhir-pyrate-VJNlgDv1-py3.8/lib/python3.8/site-packages/fhirpathpy/engine/evaluators/__init__.py:57\u001B[0m, in \u001B[0;36mop_expression\u001B[0;34m(ctx, parentData, node)\u001B[0m\n\u001B[1;32m     55\u001B[0m \u001B[38;5;28;01mdef\u001B[39;00m \u001B[38;5;21mop_expression\u001B[39m(ctx, parentData, node):\n\u001B[1;32m     56\u001B[0m     op \u001B[38;5;241m=\u001B[39m node[\u001B[38;5;124m\"\u001B[39m\u001B[38;5;124mterminalNodeText\u001B[39m\u001B[38;5;124m\"\u001B[39m][\u001B[38;5;241m0\u001B[39m]\n\u001B[0;32m---> 57\u001B[0m     \u001B[38;5;28;01mreturn\u001B[39;00m \u001B[43mengine\u001B[49m\u001B[38;5;241;43m.\u001B[39;49m\u001B[43minfix_invoke\u001B[49m\u001B[43m(\u001B[49m\u001B[43mctx\u001B[49m\u001B[43m,\u001B[49m\u001B[43m \u001B[49m\u001B[43mop\u001B[49m\u001B[43m,\u001B[49m\u001B[43m \u001B[49m\u001B[43mparentData\u001B[49m\u001B[43m,\u001B[49m\u001B[43m \u001B[49m\u001B[43mnode\u001B[49m\u001B[43m[\u001B[49m\u001B[38;5;124;43m\"\u001B[39;49m\u001B[38;5;124;43mchildren\u001B[39;49m\u001B[38;5;124;43m\"\u001B[39;49m\u001B[43m]\u001B[49m\u001B[43m)\u001B[49m\n",
      "File \u001B[0;32m~/Library/Caches/pypoetry/virtualenvs/fhir-pyrate-VJNlgDv1-py3.8/lib/python3.8/site-packages/fhirpathpy/engine/__init__.py:154\u001B[0m, in \u001B[0;36minfix_invoke\u001B[0;34m(ctx, fn_name, data, raw_params)\u001B[0m\n\u001B[1;32m    151\u001B[0m paramsNumber \u001B[38;5;241m=\u001B[39m \u001B[38;5;28mlen\u001B[39m(raw_params)\n\u001B[1;32m    153\u001B[0m \u001B[38;5;28;01mif\u001B[39;00m paramsNumber \u001B[38;5;241m!=\u001B[39m \u001B[38;5;241m2\u001B[39m:\n\u001B[0;32m--> 154\u001B[0m     \u001B[38;5;28;01mraise\u001B[39;00m \u001B[38;5;167;01mException\u001B[39;00m(\u001B[38;5;124m\"\u001B[39m\u001B[38;5;124mInfix invoke should have arity 2\u001B[39m\u001B[38;5;124m\"\u001B[39m)\n\u001B[1;32m    156\u001B[0m argTypes \u001B[38;5;241m=\u001B[39m invocation[\u001B[38;5;124m\"\u001B[39m\u001B[38;5;124marity\u001B[39m\u001B[38;5;124m\"\u001B[39m][paramsNumber]\n\u001B[1;32m    158\u001B[0m \u001B[38;5;28;01mif\u001B[39;00m argTypes \u001B[38;5;129;01mis\u001B[39;00m \u001B[38;5;129;01mnot\u001B[39;00m \u001B[38;5;28;01mNone\u001B[39;00m:\n",
      "\u001B[0;31mException\u001B[0m: Infix invoke should have arity 2"
     ]
    }
   ],
   "source": [
    "from fhir_pyrate import Pirate, Miner\n",
    "from typing import Dict, List\n",
    "from fhir_pyrate.util.fhirobj import FHIRObj\n",
    "\n",
    "search = Pirate(\n",
    "    auth=None,\n",
    "    base_url=\"http://hapi.fhir.org/baseDstu2\",\n",
    "    print_request_url=True,  # Set it to true to get the URL calls\n",
    "    num_processes=1,\n",
    ")\n",
    "diagnostic_df = search.query_to_dataframe(\n",
    "    bundles_function=search.steal_bundles,\n",
    "    resource_type=\"DiagnosticReport\",\n",
    "    request_params={\n",
    "        \"_count\": 100,\n",
    "        \"_lastUpdated\": \"ge2021\",\n",
    "    },\n",
    "    fhir_paths=[\"text.status\", \"text.div\"],\n",
    ")\n",
    "diagnostic_df"
   ],
   "metadata": {
    "collapsed": false,
    "pycharm": {
     "name": "#%%\n"
    }
   }
  },
  {
   "cell_type": "markdown",
   "source": [
    "As you see, we get a warning and an error. This is because of the FHIRPath definition of `div`,\n",
    "so we need to use a processing function instead. Maybe this problem will be solved in the future,\n",
    " but both [fhirpath-py](https://github.com/beda-software/fhirpath-py) and [FHIRPath.js] (https://github.com/hl7/fhirpath.js/)\n",
    " have the same problem."
   ],
   "metadata": {
    "collapsed": false,
    "pycharm": {
     "name": "#%% md\n"
    }
   }
  },
  {
   "cell_type": "code",
   "execution_count": 2,
   "outputs": [
    {
     "name": "stdout",
     "output_type": "stream",
     "text": [
      "http://hapi.fhir.org/baseDstu2/DiagnosticReport?_count=100&_lastUpdated=ge2021\n"
     ]
    },
    {
     "name": "stderr",
     "output_type": "stream",
     "text": [
      "Query: 1it [00:00, 10082.46it/s]\n"
     ]
    },
    {
     "data": {
      "text/plain": "   fhir_diagnostic_report_id report_status  \\\n0                     267070     generated   \n1                     267041     generated   \n2                     267148     generated   \n3                     267199     generated   \n4                     266996     generated   \n5                     267149     generated   \n6                     267069     generated   \n7                     266997     generated   \n8                     267179     generated   \n9                     266955     generated   \n10                    267023     generated   \n11                    267150     generated   \n12                    266954     generated   \n13                    267113     generated   \n14                    266922     generated   \n15                    267490     generated   \n16                    267492     generated   \n17                    267365     generated   \n18                    267383     generated   \n19                    267093     generated   \n20                    267491     generated   \n21                    267296     generated   \n22                    267264     generated   \n23                    267297     generated   \n24                    267455     generated   \n25                    267339     generated   \n26                    267521     generated   \n27                    267411     generated   \n28                    267338     generated   \n29                    267541     generated   \n30                    267435     generated   \n31                    267412     generated   \n32                    267732     generated   \n33                    267841     generated   \n34                    267613     generated   \n35                    267890     generated   \n36                    267840     generated   \n37                    267839     generated   \n38                    267804     generated   \n39                    267714     generated   \n40                    267784     generated   \n41                    267687     generated   \n42                    267688     generated   \n43                    267646     generated   \n44                    267645     generated   \n45                    267760     generated   \n46                    267870     generated   \n47                    267761     generated   \n\n                                          report_text  \n0   <div xmlns=\"http://www.w3.org/1999/xhtml\"><div...  \n1   <div xmlns=\"http://www.w3.org/1999/xhtml\"><div...  \n2   <div xmlns=\"http://www.w3.org/1999/xhtml\"><div...  \n3   <div xmlns=\"http://www.w3.org/1999/xhtml\"><div...  \n4   <div xmlns=\"http://www.w3.org/1999/xhtml\"><div...  \n5   <div xmlns=\"http://www.w3.org/1999/xhtml\"><div...  \n6   <div xmlns=\"http://www.w3.org/1999/xhtml\"><div...  \n7   <div xmlns=\"http://www.w3.org/1999/xhtml\"><div...  \n8   <div xmlns=\"http://www.w3.org/1999/xhtml\"><div...  \n9   <div xmlns=\"http://www.w3.org/1999/xhtml\"><div...  \n10  <div xmlns=\"http://www.w3.org/1999/xhtml\"><div...  \n11  <div xmlns=\"http://www.w3.org/1999/xhtml\"><div...  \n12  <div xmlns=\"http://www.w3.org/1999/xhtml\"><div...  \n13  <div xmlns=\"http://www.w3.org/1999/xhtml\"><div...  \n14  <div xmlns=\"http://www.w3.org/1999/xhtml\"><div...  \n15  <div xmlns=\"http://www.w3.org/1999/xhtml\"><div...  \n16  <div xmlns=\"http://www.w3.org/1999/xhtml\"><div...  \n17  <div xmlns=\"http://www.w3.org/1999/xhtml\"><div...  \n18  <div xmlns=\"http://www.w3.org/1999/xhtml\"><div...  \n19  <div xmlns=\"http://www.w3.org/1999/xhtml\"><div...  \n20  <div xmlns=\"http://www.w3.org/1999/xhtml\"><div...  \n21  <div xmlns=\"http://www.w3.org/1999/xhtml\"><div...  \n22  <div xmlns=\"http://www.w3.org/1999/xhtml\"><div...  \n23  <div xmlns=\"http://www.w3.org/1999/xhtml\"><div...  \n24  <div xmlns=\"http://www.w3.org/1999/xhtml\"><div...  \n25  <div xmlns=\"http://www.w3.org/1999/xhtml\"><div...  \n26  <div xmlns=\"http://www.w3.org/1999/xhtml\"><div...  \n27  <div xmlns=\"http://www.w3.org/1999/xhtml\"><div...  \n28  <div xmlns=\"http://www.w3.org/1999/xhtml\"><div...  \n29  <div xmlns=\"http://www.w3.org/1999/xhtml\"><div...  \n30  <div xmlns=\"http://www.w3.org/1999/xhtml\"><div...  \n31  <div xmlns=\"http://www.w3.org/1999/xhtml\"><div...  \n32  <div xmlns=\"http://www.w3.org/1999/xhtml\"><div...  \n33  <div xmlns=\"http://www.w3.org/1999/xhtml\"><div...  \n34  <div xmlns=\"http://www.w3.org/1999/xhtml\"><div...  \n35  <div xmlns=\"http://www.w3.org/1999/xhtml\"><div...  \n36  <div xmlns=\"http://www.w3.org/1999/xhtml\"><div...  \n37  <div xmlns=\"http://www.w3.org/1999/xhtml\"><div...  \n38  <div xmlns=\"http://www.w3.org/1999/xhtml\"><div...  \n39  <div xmlns=\"http://www.w3.org/1999/xhtml\"><div...  \n40  <div xmlns=\"http://www.w3.org/1999/xhtml\"><div...  \n41  <div xmlns=\"http://www.w3.org/1999/xhtml\"><div...  \n42  <div xmlns=\"http://www.w3.org/1999/xhtml\"><div...  \n43  <div xmlns=\"http://www.w3.org/1999/xhtml\"><div...  \n44  <div xmlns=\"http://www.w3.org/1999/xhtml\"><div...  \n45  <div xmlns=\"http://www.w3.org/1999/xhtml\"><div...  \n46  <div xmlns=\"http://www.w3.org/1999/xhtml\"><div...  \n47  <div xmlns=\"http://www.w3.org/1999/xhtml\"><div...  ",
      "text/html": "<div>\n<style scoped>\n    .dataframe tbody tr th:only-of-type {\n        vertical-align: middle;\n    }\n\n    .dataframe tbody tr th {\n        vertical-align: top;\n    }\n\n    .dataframe thead th {\n        text-align: right;\n    }\n</style>\n<table border=\"1\" class=\"dataframe\">\n  <thead>\n    <tr style=\"text-align: right;\">\n      <th></th>\n      <th>fhir_diagnostic_report_id</th>\n      <th>report_status</th>\n      <th>report_text</th>\n    </tr>\n  </thead>\n  <tbody>\n    <tr>\n      <th>0</th>\n      <td>267070</td>\n      <td>generated</td>\n      <td>&lt;div xmlns=\"http://www.w3.org/1999/xhtml\"&gt;&lt;div...</td>\n    </tr>\n    <tr>\n      <th>1</th>\n      <td>267041</td>\n      <td>generated</td>\n      <td>&lt;div xmlns=\"http://www.w3.org/1999/xhtml\"&gt;&lt;div...</td>\n    </tr>\n    <tr>\n      <th>2</th>\n      <td>267148</td>\n      <td>generated</td>\n      <td>&lt;div xmlns=\"http://www.w3.org/1999/xhtml\"&gt;&lt;div...</td>\n    </tr>\n    <tr>\n      <th>3</th>\n      <td>267199</td>\n      <td>generated</td>\n      <td>&lt;div xmlns=\"http://www.w3.org/1999/xhtml\"&gt;&lt;div...</td>\n    </tr>\n    <tr>\n      <th>4</th>\n      <td>266996</td>\n      <td>generated</td>\n      <td>&lt;div xmlns=\"http://www.w3.org/1999/xhtml\"&gt;&lt;div...</td>\n    </tr>\n    <tr>\n      <th>5</th>\n      <td>267149</td>\n      <td>generated</td>\n      <td>&lt;div xmlns=\"http://www.w3.org/1999/xhtml\"&gt;&lt;div...</td>\n    </tr>\n    <tr>\n      <th>6</th>\n      <td>267069</td>\n      <td>generated</td>\n      <td>&lt;div xmlns=\"http://www.w3.org/1999/xhtml\"&gt;&lt;div...</td>\n    </tr>\n    <tr>\n      <th>7</th>\n      <td>266997</td>\n      <td>generated</td>\n      <td>&lt;div xmlns=\"http://www.w3.org/1999/xhtml\"&gt;&lt;div...</td>\n    </tr>\n    <tr>\n      <th>8</th>\n      <td>267179</td>\n      <td>generated</td>\n      <td>&lt;div xmlns=\"http://www.w3.org/1999/xhtml\"&gt;&lt;div...</td>\n    </tr>\n    <tr>\n      <th>9</th>\n      <td>266955</td>\n      <td>generated</td>\n      <td>&lt;div xmlns=\"http://www.w3.org/1999/xhtml\"&gt;&lt;div...</td>\n    </tr>\n    <tr>\n      <th>10</th>\n      <td>267023</td>\n      <td>generated</td>\n      <td>&lt;div xmlns=\"http://www.w3.org/1999/xhtml\"&gt;&lt;div...</td>\n    </tr>\n    <tr>\n      <th>11</th>\n      <td>267150</td>\n      <td>generated</td>\n      <td>&lt;div xmlns=\"http://www.w3.org/1999/xhtml\"&gt;&lt;div...</td>\n    </tr>\n    <tr>\n      <th>12</th>\n      <td>266954</td>\n      <td>generated</td>\n      <td>&lt;div xmlns=\"http://www.w3.org/1999/xhtml\"&gt;&lt;div...</td>\n    </tr>\n    <tr>\n      <th>13</th>\n      <td>267113</td>\n      <td>generated</td>\n      <td>&lt;div xmlns=\"http://www.w3.org/1999/xhtml\"&gt;&lt;div...</td>\n    </tr>\n    <tr>\n      <th>14</th>\n      <td>266922</td>\n      <td>generated</td>\n      <td>&lt;div xmlns=\"http://www.w3.org/1999/xhtml\"&gt;&lt;div...</td>\n    </tr>\n    <tr>\n      <th>15</th>\n      <td>267490</td>\n      <td>generated</td>\n      <td>&lt;div xmlns=\"http://www.w3.org/1999/xhtml\"&gt;&lt;div...</td>\n    </tr>\n    <tr>\n      <th>16</th>\n      <td>267492</td>\n      <td>generated</td>\n      <td>&lt;div xmlns=\"http://www.w3.org/1999/xhtml\"&gt;&lt;div...</td>\n    </tr>\n    <tr>\n      <th>17</th>\n      <td>267365</td>\n      <td>generated</td>\n      <td>&lt;div xmlns=\"http://www.w3.org/1999/xhtml\"&gt;&lt;div...</td>\n    </tr>\n    <tr>\n      <th>18</th>\n      <td>267383</td>\n      <td>generated</td>\n      <td>&lt;div xmlns=\"http://www.w3.org/1999/xhtml\"&gt;&lt;div...</td>\n    </tr>\n    <tr>\n      <th>19</th>\n      <td>267093</td>\n      <td>generated</td>\n      <td>&lt;div xmlns=\"http://www.w3.org/1999/xhtml\"&gt;&lt;div...</td>\n    </tr>\n    <tr>\n      <th>20</th>\n      <td>267491</td>\n      <td>generated</td>\n      <td>&lt;div xmlns=\"http://www.w3.org/1999/xhtml\"&gt;&lt;div...</td>\n    </tr>\n    <tr>\n      <th>21</th>\n      <td>267296</td>\n      <td>generated</td>\n      <td>&lt;div xmlns=\"http://www.w3.org/1999/xhtml\"&gt;&lt;div...</td>\n    </tr>\n    <tr>\n      <th>22</th>\n      <td>267264</td>\n      <td>generated</td>\n      <td>&lt;div xmlns=\"http://www.w3.org/1999/xhtml\"&gt;&lt;div...</td>\n    </tr>\n    <tr>\n      <th>23</th>\n      <td>267297</td>\n      <td>generated</td>\n      <td>&lt;div xmlns=\"http://www.w3.org/1999/xhtml\"&gt;&lt;div...</td>\n    </tr>\n    <tr>\n      <th>24</th>\n      <td>267455</td>\n      <td>generated</td>\n      <td>&lt;div xmlns=\"http://www.w3.org/1999/xhtml\"&gt;&lt;div...</td>\n    </tr>\n    <tr>\n      <th>25</th>\n      <td>267339</td>\n      <td>generated</td>\n      <td>&lt;div xmlns=\"http://www.w3.org/1999/xhtml\"&gt;&lt;div...</td>\n    </tr>\n    <tr>\n      <th>26</th>\n      <td>267521</td>\n      <td>generated</td>\n      <td>&lt;div xmlns=\"http://www.w3.org/1999/xhtml\"&gt;&lt;div...</td>\n    </tr>\n    <tr>\n      <th>27</th>\n      <td>267411</td>\n      <td>generated</td>\n      <td>&lt;div xmlns=\"http://www.w3.org/1999/xhtml\"&gt;&lt;div...</td>\n    </tr>\n    <tr>\n      <th>28</th>\n      <td>267338</td>\n      <td>generated</td>\n      <td>&lt;div xmlns=\"http://www.w3.org/1999/xhtml\"&gt;&lt;div...</td>\n    </tr>\n    <tr>\n      <th>29</th>\n      <td>267541</td>\n      <td>generated</td>\n      <td>&lt;div xmlns=\"http://www.w3.org/1999/xhtml\"&gt;&lt;div...</td>\n    </tr>\n    <tr>\n      <th>30</th>\n      <td>267435</td>\n      <td>generated</td>\n      <td>&lt;div xmlns=\"http://www.w3.org/1999/xhtml\"&gt;&lt;div...</td>\n    </tr>\n    <tr>\n      <th>31</th>\n      <td>267412</td>\n      <td>generated</td>\n      <td>&lt;div xmlns=\"http://www.w3.org/1999/xhtml\"&gt;&lt;div...</td>\n    </tr>\n    <tr>\n      <th>32</th>\n      <td>267732</td>\n      <td>generated</td>\n      <td>&lt;div xmlns=\"http://www.w3.org/1999/xhtml\"&gt;&lt;div...</td>\n    </tr>\n    <tr>\n      <th>33</th>\n      <td>267841</td>\n      <td>generated</td>\n      <td>&lt;div xmlns=\"http://www.w3.org/1999/xhtml\"&gt;&lt;div...</td>\n    </tr>\n    <tr>\n      <th>34</th>\n      <td>267613</td>\n      <td>generated</td>\n      <td>&lt;div xmlns=\"http://www.w3.org/1999/xhtml\"&gt;&lt;div...</td>\n    </tr>\n    <tr>\n      <th>35</th>\n      <td>267890</td>\n      <td>generated</td>\n      <td>&lt;div xmlns=\"http://www.w3.org/1999/xhtml\"&gt;&lt;div...</td>\n    </tr>\n    <tr>\n      <th>36</th>\n      <td>267840</td>\n      <td>generated</td>\n      <td>&lt;div xmlns=\"http://www.w3.org/1999/xhtml\"&gt;&lt;div...</td>\n    </tr>\n    <tr>\n      <th>37</th>\n      <td>267839</td>\n      <td>generated</td>\n      <td>&lt;div xmlns=\"http://www.w3.org/1999/xhtml\"&gt;&lt;div...</td>\n    </tr>\n    <tr>\n      <th>38</th>\n      <td>267804</td>\n      <td>generated</td>\n      <td>&lt;div xmlns=\"http://www.w3.org/1999/xhtml\"&gt;&lt;div...</td>\n    </tr>\n    <tr>\n      <th>39</th>\n      <td>267714</td>\n      <td>generated</td>\n      <td>&lt;div xmlns=\"http://www.w3.org/1999/xhtml\"&gt;&lt;div...</td>\n    </tr>\n    <tr>\n      <th>40</th>\n      <td>267784</td>\n      <td>generated</td>\n      <td>&lt;div xmlns=\"http://www.w3.org/1999/xhtml\"&gt;&lt;div...</td>\n    </tr>\n    <tr>\n      <th>41</th>\n      <td>267687</td>\n      <td>generated</td>\n      <td>&lt;div xmlns=\"http://www.w3.org/1999/xhtml\"&gt;&lt;div...</td>\n    </tr>\n    <tr>\n      <th>42</th>\n      <td>267688</td>\n      <td>generated</td>\n      <td>&lt;div xmlns=\"http://www.w3.org/1999/xhtml\"&gt;&lt;div...</td>\n    </tr>\n    <tr>\n      <th>43</th>\n      <td>267646</td>\n      <td>generated</td>\n      <td>&lt;div xmlns=\"http://www.w3.org/1999/xhtml\"&gt;&lt;div...</td>\n    </tr>\n    <tr>\n      <th>44</th>\n      <td>267645</td>\n      <td>generated</td>\n      <td>&lt;div xmlns=\"http://www.w3.org/1999/xhtml\"&gt;&lt;div...</td>\n    </tr>\n    <tr>\n      <th>45</th>\n      <td>267760</td>\n      <td>generated</td>\n      <td>&lt;div xmlns=\"http://www.w3.org/1999/xhtml\"&gt;&lt;div...</td>\n    </tr>\n    <tr>\n      <th>46</th>\n      <td>267870</td>\n      <td>generated</td>\n      <td>&lt;div xmlns=\"http://www.w3.org/1999/xhtml\"&gt;&lt;div...</td>\n    </tr>\n    <tr>\n      <th>47</th>\n      <td>267761</td>\n      <td>generated</td>\n      <td>&lt;div xmlns=\"http://www.w3.org/1999/xhtml\"&gt;&lt;div...</td>\n    </tr>\n  </tbody>\n</table>\n</div>"
     },
     "execution_count": 2,
     "metadata": {},
     "output_type": "execute_result"
    }
   ],
   "source": [
    "def get_diagnostic_text(bundle: FHIRObj) -> List[Dict]:\n",
    "    records = []\n",
    "    for entry in bundle.entry or []:\n",
    "        resource = entry.resource\n",
    "        records.append(\n",
    "            {\n",
    "                \"fhir_diagnostic_report_id\": resource.id,\n",
    "                \"report_status\": resource.text.status,\n",
    "                \"report_text\": resource.text.div,\n",
    "            }\n",
    "        )\n",
    "    return records\n",
    "\n",
    "\n",
    "diagnostic_df = search.query_to_dataframe(\n",
    "    bundles_function=search.steal_bundles,\n",
    "    resource_type=\"DiagnosticReport\",\n",
    "    request_params={\n",
    "        \"_count\": 100,\n",
    "        \"_lastUpdated\": \"ge2021\",\n",
    "    },\n",
    "    process_function=get_diagnostic_text,  # Use processing function\n",
    ")\n",
    "diagnostic_df"
   ],
   "metadata": {
    "collapsed": false,
    "pycharm": {
     "name": "#%%\n"
    }
   }
  },
  {
   "cell_type": "markdown",
   "source": [
    "Now we got all the DiagnosticReports and their contents. We want to be able to go through the\n",
    " content and look for the information we need.\n",
    " We initialize the Miner with the information that is interesting for us as a RegEx, pass a decoding\n",
    " function as parameter, and select the number of processes.\n",
    " The `decode_text` function can be used to store the logic that should be used to process the\n",
    " single texts. It may be that the texts are encoded, or it may be used to parse some\n",
    "  HTML code."
   ],
   "metadata": {
    "collapsed": false
   }
  },
  {
   "cell_type": "code",
   "execution_count": 3,
   "outputs": [
    {
     "name": "stderr",
     "output_type": "stream",
     "text": [
      "Searching for Metabolic*: 100%|██████████| 48/48 [00:00<00:00, 923516.48it/s]\n"
     ]
    },
    {
     "data": {
      "text/plain": "   fhir_diagnostic_report_id report_status  \\\n0                     267070     generated   \n1                     267041     generated   \n2                     267148     generated   \n3                     267199     generated   \n4                     266996     generated   \n5                     267149     generated   \n6                     267069     generated   \n7                     266997     generated   \n8                     267179     generated   \n9                     266955     generated   \n10                    267023     generated   \n11                    267150     generated   \n12                    266954     generated   \n13                    267113     generated   \n14                    266922     generated   \n15                    267490     generated   \n16                    267492     generated   \n17                    267365     generated   \n18                    267383     generated   \n19                    267093     generated   \n20                    267491     generated   \n21                    267296     generated   \n22                    267264     generated   \n23                    267297     generated   \n24                    267455     generated   \n25                    267339     generated   \n26                    267521     generated   \n27                    267411     generated   \n28                    267338     generated   \n29                    267541     generated   \n30                    267435     generated   \n31                    267412     generated   \n32                    267732     generated   \n33                    267841     generated   \n34                    267613     generated   \n35                    267890     generated   \n36                    267840     generated   \n37                    267839     generated   \n38                    267804     generated   \n39                    267714     generated   \n40                    267784     generated   \n41                    267687     generated   \n42                    267688     generated   \n43                    267646     generated   \n44                    267645     generated   \n45                    267760     generated   \n46                    267870     generated   \n47                    267761     generated   \n\n                                          report_text  text_found  \n0   <div xmlns=\"http://www.w3.org/1999/xhtml\"><div...       False  \n1   <div xmlns=\"http://www.w3.org/1999/xhtml\"><div...        True  \n2   <div xmlns=\"http://www.w3.org/1999/xhtml\"><div...        True  \n3   <div xmlns=\"http://www.w3.org/1999/xhtml\"><div...        True  \n4   <div xmlns=\"http://www.w3.org/1999/xhtml\"><div...        True  \n5   <div xmlns=\"http://www.w3.org/1999/xhtml\"><div...       False  \n6   <div xmlns=\"http://www.w3.org/1999/xhtml\"><div...        True  \n7   <div xmlns=\"http://www.w3.org/1999/xhtml\"><div...       False  \n8   <div xmlns=\"http://www.w3.org/1999/xhtml\"><div...        True  \n9   <div xmlns=\"http://www.w3.org/1999/xhtml\"><div...       False  \n10  <div xmlns=\"http://www.w3.org/1999/xhtml\"><div...        True  \n11  <div xmlns=\"http://www.w3.org/1999/xhtml\"><div...       False  \n12  <div xmlns=\"http://www.w3.org/1999/xhtml\"><div...        True  \n13  <div xmlns=\"http://www.w3.org/1999/xhtml\"><div...        True  \n14  <div xmlns=\"http://www.w3.org/1999/xhtml\"><div...        True  \n15  <div xmlns=\"http://www.w3.org/1999/xhtml\"><div...        True  \n16  <div xmlns=\"http://www.w3.org/1999/xhtml\"><div...       False  \n17  <div xmlns=\"http://www.w3.org/1999/xhtml\"><div...        True  \n18  <div xmlns=\"http://www.w3.org/1999/xhtml\"><div...        True  \n19  <div xmlns=\"http://www.w3.org/1999/xhtml\"><div...        True  \n20  <div xmlns=\"http://www.w3.org/1999/xhtml\"><div...       False  \n21  <div xmlns=\"http://www.w3.org/1999/xhtml\"><div...        True  \n22  <div xmlns=\"http://www.w3.org/1999/xhtml\"><div...        True  \n23  <div xmlns=\"http://www.w3.org/1999/xhtml\"><div...       False  \n24  <div xmlns=\"http://www.w3.org/1999/xhtml\"><div...        True  \n25  <div xmlns=\"http://www.w3.org/1999/xhtml\"><div...       False  \n26  <div xmlns=\"http://www.w3.org/1999/xhtml\"><div...        True  \n27  <div xmlns=\"http://www.w3.org/1999/xhtml\"><div...        True  \n28  <div xmlns=\"http://www.w3.org/1999/xhtml\"><div...        True  \n29  <div xmlns=\"http://www.w3.org/1999/xhtml\"><div...        True  \n30  <div xmlns=\"http://www.w3.org/1999/xhtml\"><div...        True  \n31  <div xmlns=\"http://www.w3.org/1999/xhtml\"><div...       False  \n32  <div xmlns=\"http://www.w3.org/1999/xhtml\"><div...        True  \n33  <div xmlns=\"http://www.w3.org/1999/xhtml\"><div...       False  \n34  <div xmlns=\"http://www.w3.org/1999/xhtml\"><div...        True  \n35  <div xmlns=\"http://www.w3.org/1999/xhtml\"><div...        True  \n36  <div xmlns=\"http://www.w3.org/1999/xhtml\"><div...       False  \n37  <div xmlns=\"http://www.w3.org/1999/xhtml\"><div...        True  \n38  <div xmlns=\"http://www.w3.org/1999/xhtml\"><div...        True  \n39  <div xmlns=\"http://www.w3.org/1999/xhtml\"><div...        True  \n40  <div xmlns=\"http://www.w3.org/1999/xhtml\"><div...        True  \n41  <div xmlns=\"http://www.w3.org/1999/xhtml\"><div...        True  \n42  <div xmlns=\"http://www.w3.org/1999/xhtml\"><div...       False  \n43  <div xmlns=\"http://www.w3.org/1999/xhtml\"><div...       False  \n44  <div xmlns=\"http://www.w3.org/1999/xhtml\"><div...        True  \n45  <div xmlns=\"http://www.w3.org/1999/xhtml\"><div...        True  \n46  <div xmlns=\"http://www.w3.org/1999/xhtml\"><div...        True  \n47  <div xmlns=\"http://www.w3.org/1999/xhtml\"><div...       False  ",
      "text/html": "<div>\n<style scoped>\n    .dataframe tbody tr th:only-of-type {\n        vertical-align: middle;\n    }\n\n    .dataframe tbody tr th {\n        vertical-align: top;\n    }\n\n    .dataframe thead th {\n        text-align: right;\n    }\n</style>\n<table border=\"1\" class=\"dataframe\">\n  <thead>\n    <tr style=\"text-align: right;\">\n      <th></th>\n      <th>fhir_diagnostic_report_id</th>\n      <th>report_status</th>\n      <th>report_text</th>\n      <th>text_found</th>\n    </tr>\n  </thead>\n  <tbody>\n    <tr>\n      <th>0</th>\n      <td>267070</td>\n      <td>generated</td>\n      <td>&lt;div xmlns=\"http://www.w3.org/1999/xhtml\"&gt;&lt;div...</td>\n      <td>False</td>\n    </tr>\n    <tr>\n      <th>1</th>\n      <td>267041</td>\n      <td>generated</td>\n      <td>&lt;div xmlns=\"http://www.w3.org/1999/xhtml\"&gt;&lt;div...</td>\n      <td>True</td>\n    </tr>\n    <tr>\n      <th>2</th>\n      <td>267148</td>\n      <td>generated</td>\n      <td>&lt;div xmlns=\"http://www.w3.org/1999/xhtml\"&gt;&lt;div...</td>\n      <td>True</td>\n    </tr>\n    <tr>\n      <th>3</th>\n      <td>267199</td>\n      <td>generated</td>\n      <td>&lt;div xmlns=\"http://www.w3.org/1999/xhtml\"&gt;&lt;div...</td>\n      <td>True</td>\n    </tr>\n    <tr>\n      <th>4</th>\n      <td>266996</td>\n      <td>generated</td>\n      <td>&lt;div xmlns=\"http://www.w3.org/1999/xhtml\"&gt;&lt;div...</td>\n      <td>True</td>\n    </tr>\n    <tr>\n      <th>5</th>\n      <td>267149</td>\n      <td>generated</td>\n      <td>&lt;div xmlns=\"http://www.w3.org/1999/xhtml\"&gt;&lt;div...</td>\n      <td>False</td>\n    </tr>\n    <tr>\n      <th>6</th>\n      <td>267069</td>\n      <td>generated</td>\n      <td>&lt;div xmlns=\"http://www.w3.org/1999/xhtml\"&gt;&lt;div...</td>\n      <td>True</td>\n    </tr>\n    <tr>\n      <th>7</th>\n      <td>266997</td>\n      <td>generated</td>\n      <td>&lt;div xmlns=\"http://www.w3.org/1999/xhtml\"&gt;&lt;div...</td>\n      <td>False</td>\n    </tr>\n    <tr>\n      <th>8</th>\n      <td>267179</td>\n      <td>generated</td>\n      <td>&lt;div xmlns=\"http://www.w3.org/1999/xhtml\"&gt;&lt;div...</td>\n      <td>True</td>\n    </tr>\n    <tr>\n      <th>9</th>\n      <td>266955</td>\n      <td>generated</td>\n      <td>&lt;div xmlns=\"http://www.w3.org/1999/xhtml\"&gt;&lt;div...</td>\n      <td>False</td>\n    </tr>\n    <tr>\n      <th>10</th>\n      <td>267023</td>\n      <td>generated</td>\n      <td>&lt;div xmlns=\"http://www.w3.org/1999/xhtml\"&gt;&lt;div...</td>\n      <td>True</td>\n    </tr>\n    <tr>\n      <th>11</th>\n      <td>267150</td>\n      <td>generated</td>\n      <td>&lt;div xmlns=\"http://www.w3.org/1999/xhtml\"&gt;&lt;div...</td>\n      <td>False</td>\n    </tr>\n    <tr>\n      <th>12</th>\n      <td>266954</td>\n      <td>generated</td>\n      <td>&lt;div xmlns=\"http://www.w3.org/1999/xhtml\"&gt;&lt;div...</td>\n      <td>True</td>\n    </tr>\n    <tr>\n      <th>13</th>\n      <td>267113</td>\n      <td>generated</td>\n      <td>&lt;div xmlns=\"http://www.w3.org/1999/xhtml\"&gt;&lt;div...</td>\n      <td>True</td>\n    </tr>\n    <tr>\n      <th>14</th>\n      <td>266922</td>\n      <td>generated</td>\n      <td>&lt;div xmlns=\"http://www.w3.org/1999/xhtml\"&gt;&lt;div...</td>\n      <td>True</td>\n    </tr>\n    <tr>\n      <th>15</th>\n      <td>267490</td>\n      <td>generated</td>\n      <td>&lt;div xmlns=\"http://www.w3.org/1999/xhtml\"&gt;&lt;div...</td>\n      <td>True</td>\n    </tr>\n    <tr>\n      <th>16</th>\n      <td>267492</td>\n      <td>generated</td>\n      <td>&lt;div xmlns=\"http://www.w3.org/1999/xhtml\"&gt;&lt;div...</td>\n      <td>False</td>\n    </tr>\n    <tr>\n      <th>17</th>\n      <td>267365</td>\n      <td>generated</td>\n      <td>&lt;div xmlns=\"http://www.w3.org/1999/xhtml\"&gt;&lt;div...</td>\n      <td>True</td>\n    </tr>\n    <tr>\n      <th>18</th>\n      <td>267383</td>\n      <td>generated</td>\n      <td>&lt;div xmlns=\"http://www.w3.org/1999/xhtml\"&gt;&lt;div...</td>\n      <td>True</td>\n    </tr>\n    <tr>\n      <th>19</th>\n      <td>267093</td>\n      <td>generated</td>\n      <td>&lt;div xmlns=\"http://www.w3.org/1999/xhtml\"&gt;&lt;div...</td>\n      <td>True</td>\n    </tr>\n    <tr>\n      <th>20</th>\n      <td>267491</td>\n      <td>generated</td>\n      <td>&lt;div xmlns=\"http://www.w3.org/1999/xhtml\"&gt;&lt;div...</td>\n      <td>False</td>\n    </tr>\n    <tr>\n      <th>21</th>\n      <td>267296</td>\n      <td>generated</td>\n      <td>&lt;div xmlns=\"http://www.w3.org/1999/xhtml\"&gt;&lt;div...</td>\n      <td>True</td>\n    </tr>\n    <tr>\n      <th>22</th>\n      <td>267264</td>\n      <td>generated</td>\n      <td>&lt;div xmlns=\"http://www.w3.org/1999/xhtml\"&gt;&lt;div...</td>\n      <td>True</td>\n    </tr>\n    <tr>\n      <th>23</th>\n      <td>267297</td>\n      <td>generated</td>\n      <td>&lt;div xmlns=\"http://www.w3.org/1999/xhtml\"&gt;&lt;div...</td>\n      <td>False</td>\n    </tr>\n    <tr>\n      <th>24</th>\n      <td>267455</td>\n      <td>generated</td>\n      <td>&lt;div xmlns=\"http://www.w3.org/1999/xhtml\"&gt;&lt;div...</td>\n      <td>True</td>\n    </tr>\n    <tr>\n      <th>25</th>\n      <td>267339</td>\n      <td>generated</td>\n      <td>&lt;div xmlns=\"http://www.w3.org/1999/xhtml\"&gt;&lt;div...</td>\n      <td>False</td>\n    </tr>\n    <tr>\n      <th>26</th>\n      <td>267521</td>\n      <td>generated</td>\n      <td>&lt;div xmlns=\"http://www.w3.org/1999/xhtml\"&gt;&lt;div...</td>\n      <td>True</td>\n    </tr>\n    <tr>\n      <th>27</th>\n      <td>267411</td>\n      <td>generated</td>\n      <td>&lt;div xmlns=\"http://www.w3.org/1999/xhtml\"&gt;&lt;div...</td>\n      <td>True</td>\n    </tr>\n    <tr>\n      <th>28</th>\n      <td>267338</td>\n      <td>generated</td>\n      <td>&lt;div xmlns=\"http://www.w3.org/1999/xhtml\"&gt;&lt;div...</td>\n      <td>True</td>\n    </tr>\n    <tr>\n      <th>29</th>\n      <td>267541</td>\n      <td>generated</td>\n      <td>&lt;div xmlns=\"http://www.w3.org/1999/xhtml\"&gt;&lt;div...</td>\n      <td>True</td>\n    </tr>\n    <tr>\n      <th>30</th>\n      <td>267435</td>\n      <td>generated</td>\n      <td>&lt;div xmlns=\"http://www.w3.org/1999/xhtml\"&gt;&lt;div...</td>\n      <td>True</td>\n    </tr>\n    <tr>\n      <th>31</th>\n      <td>267412</td>\n      <td>generated</td>\n      <td>&lt;div xmlns=\"http://www.w3.org/1999/xhtml\"&gt;&lt;div...</td>\n      <td>False</td>\n    </tr>\n    <tr>\n      <th>32</th>\n      <td>267732</td>\n      <td>generated</td>\n      <td>&lt;div xmlns=\"http://www.w3.org/1999/xhtml\"&gt;&lt;div...</td>\n      <td>True</td>\n    </tr>\n    <tr>\n      <th>33</th>\n      <td>267841</td>\n      <td>generated</td>\n      <td>&lt;div xmlns=\"http://www.w3.org/1999/xhtml\"&gt;&lt;div...</td>\n      <td>False</td>\n    </tr>\n    <tr>\n      <th>34</th>\n      <td>267613</td>\n      <td>generated</td>\n      <td>&lt;div xmlns=\"http://www.w3.org/1999/xhtml\"&gt;&lt;div...</td>\n      <td>True</td>\n    </tr>\n    <tr>\n      <th>35</th>\n      <td>267890</td>\n      <td>generated</td>\n      <td>&lt;div xmlns=\"http://www.w3.org/1999/xhtml\"&gt;&lt;div...</td>\n      <td>True</td>\n    </tr>\n    <tr>\n      <th>36</th>\n      <td>267840</td>\n      <td>generated</td>\n      <td>&lt;div xmlns=\"http://www.w3.org/1999/xhtml\"&gt;&lt;div...</td>\n      <td>False</td>\n    </tr>\n    <tr>\n      <th>37</th>\n      <td>267839</td>\n      <td>generated</td>\n      <td>&lt;div xmlns=\"http://www.w3.org/1999/xhtml\"&gt;&lt;div...</td>\n      <td>True</td>\n    </tr>\n    <tr>\n      <th>38</th>\n      <td>267804</td>\n      <td>generated</td>\n      <td>&lt;div xmlns=\"http://www.w3.org/1999/xhtml\"&gt;&lt;div...</td>\n      <td>True</td>\n    </tr>\n    <tr>\n      <th>39</th>\n      <td>267714</td>\n      <td>generated</td>\n      <td>&lt;div xmlns=\"http://www.w3.org/1999/xhtml\"&gt;&lt;div...</td>\n      <td>True</td>\n    </tr>\n    <tr>\n      <th>40</th>\n      <td>267784</td>\n      <td>generated</td>\n      <td>&lt;div xmlns=\"http://www.w3.org/1999/xhtml\"&gt;&lt;div...</td>\n      <td>True</td>\n    </tr>\n    <tr>\n      <th>41</th>\n      <td>267687</td>\n      <td>generated</td>\n      <td>&lt;div xmlns=\"http://www.w3.org/1999/xhtml\"&gt;&lt;div...</td>\n      <td>True</td>\n    </tr>\n    <tr>\n      <th>42</th>\n      <td>267688</td>\n      <td>generated</td>\n      <td>&lt;div xmlns=\"http://www.w3.org/1999/xhtml\"&gt;&lt;div...</td>\n      <td>False</td>\n    </tr>\n    <tr>\n      <th>43</th>\n      <td>267646</td>\n      <td>generated</td>\n      <td>&lt;div xmlns=\"http://www.w3.org/1999/xhtml\"&gt;&lt;div...</td>\n      <td>False</td>\n    </tr>\n    <tr>\n      <th>44</th>\n      <td>267645</td>\n      <td>generated</td>\n      <td>&lt;div xmlns=\"http://www.w3.org/1999/xhtml\"&gt;&lt;div...</td>\n      <td>True</td>\n    </tr>\n    <tr>\n      <th>45</th>\n      <td>267760</td>\n      <td>generated</td>\n      <td>&lt;div xmlns=\"http://www.w3.org/1999/xhtml\"&gt;&lt;div...</td>\n      <td>True</td>\n    </tr>\n    <tr>\n      <th>46</th>\n      <td>267870</td>\n      <td>generated</td>\n      <td>&lt;div xmlns=\"http://www.w3.org/1999/xhtml\"&gt;&lt;div...</td>\n      <td>True</td>\n    </tr>\n    <tr>\n      <th>47</th>\n      <td>267761</td>\n      <td>generated</td>\n      <td>&lt;div xmlns=\"http://www.w3.org/1999/xhtml\"&gt;&lt;div...</td>\n      <td>False</td>\n    </tr>\n  </tbody>\n</table>\n</div>"
     },
     "execution_count": 3,
     "metadata": {},
     "output_type": "execute_result"
    }
   ],
   "source": [
    "from bs4 import BeautifulSoup\n",
    "\n",
    "# Processing function to process each single text\n",
    "def decode_text(text: str) -> str:\n",
    "    soup = BeautifulSoup(text, \"html.parser\")\n",
    "    # Get the values inside the divs\n",
    "    return str(soup.div.div)\n",
    "\n",
    "\n",
    "miner = Miner(target_regex=\"Metabolic*\", decode_text=decode_text, num_processes=1)\n",
    "df_filtered = miner.nlp_on_dataframe(\n",
    "    diagnostic_df,\n",
    "    text_column_name=\"report_text\",\n",
    "    new_column_name=\"text_found\",\n",
    ")\n",
    "df_filtered"
   ],
   "metadata": {
    "collapsed": false,
    "pycharm": {
     "name": "#%%\n"
    }
   }
  },
  {
   "cell_type": "markdown",
   "source": [
    "What we obtain is then a DataFrame, with a column telling us whether the RegEx was present in the\n",
    "text or not."
   ],
   "metadata": {
    "collapsed": false,
    "pycharm": {
     "name": "#%% md\n"
    }
   }
  }
 ],
 "metadata": {
  "kernelspec": {
   "display_name": "Python 3",
   "language": "python",
   "name": "python3"
  },
  "language_info": {
   "codemirror_mode": {
    "name": "ipython",
    "version": 2
   },
   "file_extension": ".py",
   "mimetype": "text/x-python",
   "name": "python",
   "nbconvert_exporter": "python",
   "pygments_lexer": "ipython2",
   "version": "2.7.6"
  }
 },
 "nbformat": 4,
 "nbformat_minor": 0
}
